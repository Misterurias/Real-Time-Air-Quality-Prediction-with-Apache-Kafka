{
 "cells": [
  {
   "cell_type": "markdown",
   "id": "b50b33ca",
   "metadata": {},
   "source": [
    "# Phase 3 - Starter Script\n"
   ]
  },
  {
   "cell_type": "code",
   "execution_count": 18,
   "id": "584b62a5",
   "metadata": {},
   "outputs": [],
   "source": [
    "import pandas as pd\n",
    "import numpy as np\n",
    "import xgboost as xgb\n",
    "\n",
    "from sklearn.model_selection import train_test_split\n",
    "from sklearn.metrics import mean_absolute_error, mean_squared_error\n",
    "\n"
   ]
  },
  {
   "cell_type": "markdown",
   "id": "36a2046b",
   "metadata": {},
   "source": [
    "## Step 1: Load & Inspect the Data"
   ]
  },
  {
   "cell_type": "code",
   "execution_count": 19,
   "id": "0e75b1fb",
   "metadata": {},
   "outputs": [
    {
     "name": "stdout",
     "output_type": "stream",
     "text": [
      "Data shape: (6941, 14)\n",
      "                     CO(GT)  PT08.S1(CO)  NMHC(GT)  C6H6(GT)  PT08.S2(NMHC)  \\\n",
      "Datetime                                                                      \n",
      "2004-03-10 18:00:00     2.6       1360.0     150.0      11.9         1046.0   \n",
      "2004-03-10 19:00:00     2.0       1292.0     112.0       9.4          955.0   \n",
      "2004-03-10 20:00:00     2.2       1402.0      88.0       9.0          939.0   \n",
      "2004-03-10 21:00:00     2.2       1376.0      80.0       9.2          948.0   \n",
      "2004-03-10 22:00:00     1.6       1272.0      51.0       6.5          836.0   \n",
      "\n",
      "                     NOx(GT)  PT08.S3(NOx)  NO2(GT)  PT08.S4(NO2)  \\\n",
      "Datetime                                                            \n",
      "2004-03-10 18:00:00    166.0        1056.0    113.0        1692.0   \n",
      "2004-03-10 19:00:00    103.0        1174.0     92.0        1559.0   \n",
      "2004-03-10 20:00:00    131.0        1140.0    114.0        1555.0   \n",
      "2004-03-10 21:00:00    172.0        1092.0    122.0        1584.0   \n",
      "2004-03-10 22:00:00    131.0        1205.0    116.0        1490.0   \n",
      "\n",
      "                     PT08.S5(O3)     T    RH      AH NO2_status  \n",
      "Datetime                                                         \n",
      "2004-03-10 18:00:00       1268.0  13.6  48.9  0.7578         OK  \n",
      "2004-03-10 19:00:00        972.0  13.3  47.7  0.7255         OK  \n",
      "2004-03-10 20:00:00       1074.0  11.9  54.0  0.7502         OK  \n",
      "2004-03-10 21:00:00       1203.0  11.0  60.0  0.7867         OK  \n",
      "2004-03-10 22:00:00       1110.0  11.2  59.6  0.7888         OK  \n"
     ]
    }
   ],
   "source": [
    "# Load CSV\n",
    "path = \"../data/cleaned_air_quality.csv\"\n",
    "df = pd.read_csv(path)\n",
    "\n",
    "# Combine Date + Time into a proper datetime\n",
    "df['Datetime'] = pd.to_datetime(\n",
    "    df['Date'] + ' ' + df['Time'],\n",
    "    format=\"%d/%m/%Y %H.%M.%S\"  # <-- matches \"10/03/2004 18.00.00\"\n",
    ")\n",
    "\n",
    "# Set as index\n",
    "df = df.set_index('Datetime').drop(columns=['Date', 'Time'])\n",
    "\n",
    "print(\"Data shape:\", df.shape)\n",
    "print(df.head())\n"
   ]
  },
  {
   "cell_type": "markdown",
   "id": "69745281",
   "metadata": {},
   "source": [
    "## Step 2: Feature Engineering"
   ]
  },
  {
   "cell_type": "code",
   "execution_count": 20,
   "id": "4150066b",
   "metadata": {},
   "outputs": [
    {
     "name": "stdout",
     "output_type": "stream",
     "text": [
      "\n",
      "Final dataset shape after feature engineering: (803, 32)\n",
      "                     CO(GT)  PT08.S1(CO)  NMHC(GT)  C6H6(GT)  PT08.S2(NMHC)  \\\n",
      "Datetime                                                                      \n",
      "2004-03-11 20:00:00     6.1       1640.0     401.0      24.0         1404.0   \n",
      "2004-03-11 21:00:00     3.9       1313.0     197.0      12.8         1076.0   \n",
      "2004-03-11 22:00:00     1.5        965.0      61.0       4.7          749.0   \n",
      "2004-03-11 23:00:00     1.0        913.0      26.0       2.6          629.0   \n",
      "2004-03-12 00:00:00     1.7       1080.0      55.0       5.9          805.0   \n",
      "\n",
      "                     NOx(GT)  PT08.S3(NOx)  NO2(GT)  PT08.S4(NO2)  \\\n",
      "Datetime                                                            \n",
      "2004-03-11 20:00:00    351.0         743.0    165.0        2191.0   \n",
      "2004-03-11 21:00:00    240.0         957.0    136.0        1707.0   \n",
      "2004-03-11 22:00:00     94.0        1325.0     85.0        1333.0   \n",
      "2004-03-11 23:00:00     47.0        1565.0     53.0        1252.0   \n",
      "2004-03-12 00:00:00    122.0        1254.0     97.0        1375.0   \n",
      "\n",
      "                     PT08.S5(O3)  ...  NO2(GT)_lag1  NO2(GT)_lag6  \\\n",
      "Datetime                          ...                               \n",
      "2004-03-11 20:00:00       1654.0  ...         172.0         128.0   \n",
      "2004-03-11 21:00:00       1285.0  ...         165.0         126.0   \n",
      "2004-03-11 22:00:00        821.0  ...         136.0         131.0   \n",
      "2004-03-11 23:00:00        552.0  ...          85.0         135.0   \n",
      "2004-03-12 00:00:00        816.0  ...          53.0         151.0   \n",
      "\n",
      "                     NO2(GT)_lag12 NO2(GT)_lag24  NO2(GT)_rollmean3  \\\n",
      "Datetime                                                              \n",
      "2004-03-11 20:00:00          112.0         113.0         162.666667   \n",
      "2004-03-11 21:00:00          101.0          92.0         157.666667   \n",
      "2004-03-11 22:00:00           98.0         114.0         128.666667   \n",
      "2004-03-11 23:00:00           92.0         122.0          91.333333   \n",
      "2004-03-12 00:00:00           95.0         116.0          78.333333   \n",
      "\n",
      "                     NO2(GT)_rollstd3  NO2(GT)_rollmean6  NO2(GT)_rollstd6  \\\n",
      "Datetime                                                                     \n",
      "2004-03-11 20:00:00         10.692677         146.666667         19.001754   \n",
      "2004-03-11 21:00:00         19.087518         148.333333         17.177505   \n",
      "2004-03-11 22:00:00         40.501029         140.666667         31.091264   \n",
      "2004-03-11 23:00:00         41.860881         127.000000         47.678087   \n",
      "2004-03-12 00:00:00         22.744963         118.000000         47.337089   \n",
      "\n",
      "                     NO2(GT)_rollmean12  NO2(GT)_rollstd12  \n",
      "Datetime                                                    \n",
      "2004-03-11 20:00:00          125.500000          27.120941  \n",
      "2004-03-11 21:00:00          128.416667          26.109762  \n",
      "2004-03-11 22:00:00          127.333333          27.707345  \n",
      "2004-03-11 23:00:00          124.083333          33.837737  \n",
      "2004-03-12 00:00:00          124.250000          33.686051  \n",
      "\n",
      "[5 rows x 32 columns]\n"
     ]
    }
   ],
   "source": [
    "# Temporal Features\n",
    "df['hour'] = df.index.hour\n",
    "df['dayofweek'] = df.index.dayofweek  # 0=Monday\n",
    "df['month'] = df.index.month\n",
    "df['is_weekend'] = (df['dayofweek'] >= 5).astype(int)\n",
    "\n",
    "# Cyclical Encoding for hour + month\n",
    "df['hour_sin'] = np.sin(2 * np.pi * df['hour'] / 24)\n",
    "df['hour_cos'] = np.cos(2 * np.pi * df['hour'] / 24)\n",
    "df['month_sin'] = np.sin(2 * np.pi * df['month'] / 12)\n",
    "df['month_cos'] = np.cos(2 * np.pi * df['month'] / 12)\n",
    "\n",
    "# Lagged Features (example for NO2, can repeat for others)\n",
    "target_pollutant = 'NO2(GT)'  # confirm this is the right column name\n",
    "for lag in [1, 6, 12, 24]:\n",
    "    df[f'{target_pollutant}_lag{lag}'] = df[target_pollutant].shift(lag)\n",
    "\n",
    "# Rolling Statistics\n",
    "for window in [3, 6, 12]:\n",
    "    df[f'{target_pollutant}_rollmean{window}'] = df[target_pollutant].rolling(window=window).mean()\n",
    "    df[f'{target_pollutant}_rollstd{window}'] = df[target_pollutant].rolling(window=window).std()\n",
    "\n",
    "# Drop rows with NaNs\n",
    "df = df.dropna()\n",
    "\n",
    "print(\"\\nFinal dataset shape after feature engineering:\", df.shape)\n",
    "print(df.head())"
   ]
  }
 ],
 "metadata": {
  "kernelspec": {
   "display_name": ".venv (3.13.7)",
   "language": "python",
   "name": "python3"
  },
  "language_info": {
   "codemirror_mode": {
    "name": "ipython",
    "version": 3
   },
   "file_extension": ".py",
   "mimetype": "text/x-python",
   "name": "python",
   "nbconvert_exporter": "python",
   "pygments_lexer": "ipython3",
   "version": "3.13.7"
  }
 },
 "nbformat": 4,
 "nbformat_minor": 5
}
